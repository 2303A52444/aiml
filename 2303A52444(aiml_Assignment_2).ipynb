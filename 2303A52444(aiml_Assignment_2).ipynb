{
  "nbformat": 4,
  "nbformat_minor": 0,
  "metadata": {
    "colab": {
      "provenance": [],
      "authorship_tag": "ABX9TyNGD2RgRpbB0d36URU7UxZ4",
      "include_colab_link": true
    },
    "kernelspec": {
      "name": "python3",
      "display_name": "Python 3"
    },
    "language_info": {
      "name": "python"
    }
  },
  "cells": [
    {
      "cell_type": "markdown",
      "metadata": {
        "id": "view-in-github",
        "colab_type": "text"
      },
      "source": [
        "<a href=\"https://colab.research.google.com/github/2303A52444/aiml/blob/main/2303A52444(aiml_Assignment_2).ipynb\" target=\"_parent\"><img src=\"https://colab.research.google.com/assets/colab-badge.svg\" alt=\"Open In Colab\"/></a>"
      ]
    },
    {
      "cell_type": "code",
      "execution_count": 1,
      "metadata": {
        "colab": {
          "base_uri": "https://localhost:8080/"
        },
        "id": "6W71gjuwYz8r",
        "outputId": "2e0ecd56-d6d6-4211-fe0e-4bccea33cd4b"
      },
      "outputs": [
        {
          "output_type": "stream",
          "name": "stdout",
          "text": [
            "The adjacency List representing the graph is:\n",
            "{0: [1, 2, 3], 1: [0, 2], 2: [1, 3, 5], 3: [0, 2, 4], 4: [3, 5, 7], 5: [2, 4, 6, 7], 6: [5, 7], 7: []}\n",
            "BFS traversal of graph with source 1 is:\n",
            "1->0->2->3->5->4->6->7->"
          ]
        }
      ],
      "source": [
        "from queue import Queue\n",
        "graph = {0:[1,2,3,],\n",
        "         1:[0,2],\n",
        "         2:[1,3,5],\n",
        "         3:[0,2,4],\n",
        "         4:[3,5,7],\n",
        "         5:[2,4,6,7],\n",
        "         6:[5,7],\n",
        "         7:[]}\n",
        "\n",
        "print(\"The adjacency List representing the graph is:\")\n",
        "print(graph)\n",
        "\n",
        "def bfs(graph, source):\n",
        "  Q = Queue()\n",
        "  visited_vertices = set()\n",
        "  Q.put(source)\n",
        "  visited_vertices.update({source})\n",
        "  while not Q.empty():\n",
        "    vertex = Q.get()\n",
        "    print(vertex, end=\"->\")\n",
        "    for u in graph[vertex]:\n",
        "      if u not in visited_vertices:\n",
        "        Q.put(u)\n",
        "        visited_vertices.update({u})\n",
        "\n",
        "print(\"BFS traversal of graph with source 1 is:\")\n",
        "bfs(graph, 1)\n"
      ]
    },
    {
      "cell_type": "code",
      "source": [
        "graph1 = {\n",
        "'A': ['B','C','G'],\n",
        "'B': ['A'],\n",
        "'C': ['A','D','F'],\n",
        "'D': ['A','C','E','H'],\n",
        "'E': ['D','H','F'],\n",
        "'F': ['C','E'],\n",
        "'G': ['A','D','H'],\n",
        "'H': ['D','E','G']\n",
        "}\n",
        "\n",
        "def dfs(graph, node, visited):\n",
        "  if node not in visited:\n",
        "    visited.append(node)\n",
        "    for k in graph[node]:\n",
        "       dfs(graph,k, visited)\n",
        "  return visited\n",
        "\n",
        "visited = dfs(graph1,'B', [])\n",
        "\n",
        "print(visited)"
      ],
      "metadata": {
        "colab": {
          "base_uri": "https://localhost:8080/"
        },
        "id": "BAf4rhQeZQZV",
        "outputId": "9aaf32f5-d51a-494d-c31b-5a69631a702b"
      },
      "execution_count": 2,
      "outputs": [
        {
          "output_type": "stream",
          "name": "stdout",
          "text": [
            "['B', 'A', 'C', 'D', 'E', 'H', 'G', 'F']\n"
          ]
        }
      ]
    },
    {
      "cell_type": "code",
      "source": [
        "graph1 = {\n",
        "\n",
        "'A': ['B','C','G'],\n",
        "'B': ['A'],\n",
        "'C': ['A','D','F'],\n",
        "'D': ['A','C','E','H'],\n",
        "'E': ['D','H','F'], 'F': ['C','E'],\n",
        "'G': ['A','D', 'H'],\n",
        "'H': ['D','E','G']\n",
        "\n",
        "}\n",
        "def dfs(graph, node, visited):\n",
        "   if node not in visited:\n",
        "    visited.append(node)\n",
        "    for k in graph[node]:\n",
        "      dfs(graph,k, visited)\n",
        "    return visited\n",
        "visited = dfs(graph1,'B', [])\n",
        "print(visited)"
      ],
      "metadata": {
        "colab": {
          "base_uri": "https://localhost:8080/"
        },
        "id": "3hPugud_ZZ1g",
        "outputId": "eecf2463-de53-4e5b-dec2-44edcfa9998b"
      },
      "execution_count": 3,
      "outputs": [
        {
          "output_type": "stream",
          "name": "stdout",
          "text": [
            "['B', 'A', 'C', 'D', 'E', 'H', 'G', 'F']\n"
          ]
        }
      ]
    },
    {
      "cell_type": "code",
      "source": [
        "from copy import deepcopy\n",
        "import numpy as np\n",
        "import time\n",
        "def bestsolution(state):\n",
        "    bestsol=np.array([],int).reshape(-1,9)\n",
        "    count=len(state)-1\n",
        "    while count>=0:\n",
        "      bestsol=np.insert(bestsol, 0, state [count]['puzzle'],0)\n",
        "      count=state[count] ['parent']\n",
        "      return bestsol.reshape(-1,3,3)\n",
        "\n"
      ],
      "metadata": {
        "id": "j0prMyZ3ZhlU"
      },
      "execution_count": 5,
      "outputs": []
    },
    {
      "cell_type": "code",
      "source": [
        "def all(checkarray):\n",
        "  set=[]\n",
        "  for i in checkarray:\n",
        "    if i not in set:\n",
        "      set.append(i)\n",
        "  return set"
      ],
      "metadata": {
        "id": "Snbii3mgZw4l"
      },
      "execution_count": 6,
      "outputs": []
    },
    {
      "cell_type": "code",
      "source": [
        "#number of misplaced tiles\n",
        "def misplaced_tiles(puzzle,goal):\n",
        "  mscost = np.sum(puzzle != goal) - 1\n",
        "  return mscost if mscost > 0 else 0\n",
        "def coordinates(puzzle):\n",
        "   pos = np.array(range(9))\n",
        "   for p, q in enumerate(puzzle):\n",
        "      pos[q] = p\n",
        "   return pos\n",
        ""
      ],
      "metadata": {
        "id": "OPppHGYjZ3ZT"
      },
      "execution_count": 7,
      "outputs": []
    },
    {
      "cell_type": "code",
      "source": [
        "def evaluvate_misplaced (puzzle, goal):\n",
        "  steps = np.array([('up', [0, 1, 2], -3), ('down', [6, 7, 8], 3), ('left', [0, 3, 6], -1), ('right', [2, 5, 8], 1)], dtype = [('move', str, 1), ('position', list), ('head', int)])\n",
        "  dtstate = [('puzzle', list), ('parent', int), ('gn', int), ('hn', int)]\n",
        "  costg = coordinates(goal)\n",
        "  parent = -1\n",
        "  gn = 0\n",
        "  hn = misplaced_tiles(coordinates(puzzle), costg)\n",
        "  state = np.array([(puzzle, parent, gn, hn)], dtstate)"
      ],
      "metadata": {
        "id": "k1xMW6i-aaSI"
      },
      "execution_count": 8,
      "outputs": []
    }
  ]
}